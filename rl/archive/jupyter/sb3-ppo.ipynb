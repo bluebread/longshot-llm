{
 "cells": [
  {
   "cell_type": "code",
   "execution_count": 1,
   "id": "648fce53-ba20-461c-b2b7-98bb0d6357c6",
   "metadata": {},
   "outputs": [
    {
     "name": "stderr",
     "output_type": "stream",
     "text": [
      "2025-05-11 09:39:33.357545: I tensorflow/core/util/port.cc:153] oneDNN custom operations are on. You may see slightly different numerical results due to floating-point round-off errors from different computation orders. To turn them off, set the environment variable `TF_ENABLE_ONEDNN_OPTS=0`.\n",
      "2025-05-11 09:39:33.363597: E external/local_xla/xla/stream_executor/cuda/cuda_fft.cc:467] Unable to register cuFFT factory: Attempting to register factory for plugin cuFFT when one has already been registered\n",
      "WARNING: All log messages before absl::InitializeLog() is called are written to STDERR\n",
      "E0000 00:00:1746956373.370508    1243 cuda_dnn.cc:8579] Unable to register cuDNN factory: Attempting to register factory for plugin cuDNN when one has already been registered\n",
      "E0000 00:00:1746956373.372604    1243 cuda_blas.cc:1407] Unable to register cuBLAS factory: Attempting to register factory for plugin cuBLAS when one has already been registered\n",
      "W0000 00:00:1746956373.378234    1243 computation_placer.cc:177] computation placer already registered. Please check linkage and avoid linking the same target more than once.\n",
      "W0000 00:00:1746956373.378244    1243 computation_placer.cc:177] computation placer already registered. Please check linkage and avoid linking the same target more than once.\n",
      "W0000 00:00:1746956373.378244    1243 computation_placer.cc:177] computation placer already registered. Please check linkage and avoid linking the same target more than once.\n",
      "W0000 00:00:1746956373.378245    1243 computation_placer.cc:177] computation placer already registered. Please check linkage and avoid linking the same target more than once.\n",
      "2025-05-11 09:39:33.380754: I tensorflow/core/platform/cpu_feature_guard.cc:210] This TensorFlow binary is optimized to use available CPU instructions in performance-critical operations.\n",
      "To enable the following instructions: AVX2 AVX512F AVX512_VNNI AVX512_BF16 AVX_VNNI FMA, in other operations, rebuild TensorFlow with the appropriate compiler flags.\n"
     ]
    }
   ],
   "source": [
    "import gymnasium as gym\n",
    "import longshot\n",
    "from longshot.circuit import FormulaType, Literals\n",
    "from longshot.gym import FlattenSequence, LambdaMixedReward, XORAction, SearchForXOR\n",
    "\n",
    "from IPython import display\n",
    "import matplotlib\n",
    "import matplotlib.pyplot as plt\n",
    "from collections import namedtuple\n",
    "from torch.utils.tensorboard import SummaryWriter\n",
    "import numpy as np\n",
    "\n",
    "from stable_baselines3 import PPO\n",
    "from stable_baselines3.common.callbacks import BaseCallback\n",
    "from stable_baselines3.common.logger import TensorBoardOutputFormat\n",
    "from stable_baselines3.common.vec_env import SubprocVecEnv\n",
    "from stable_baselines3.common.monitor import Monitor"
   ]
  },
  {
   "cell_type": "code",
   "execution_count": 2,
   "id": "4b49ff1d-baa0-4d56-ac2f-ada1406f9ca2",
   "metadata": {},
   "outputs": [],
   "source": [
    "%load_ext tensorboard\n",
    "%matplotlib inline"
   ]
  },
  {
   "cell_type": "code",
   "execution_count": 3,
   "id": "de2f6e01-2306-45a9-967e-709371dd834c",
   "metadata": {},
   "outputs": [],
   "source": [
    "num_vars = 5\n",
    "r_alpha = 1.0\n",
    "r_beta = 1.0\n",
    "r_gamma = 0.\n",
    "r_eps = 1e-5"
   ]
  },
  {
   "cell_type": "code",
   "execution_count": 4,
   "id": "0dc3a061-4673-464a-b25b-75af48948741",
   "metadata": {},
   "outputs": [],
   "source": [
    "env = gym.make(\"longshot/avgQ-d2-formula\", n=num_vars, ftype=FormulaType.Disjunctive, mono=False)\n",
    "env = SearchForXOR(env)\n",
    "env = LambdaMixedReward(env, alpha=r_alpha, beta=r_beta, gamma=r_gamma, eps=r_eps)\n",
    "env = Monitor(env)"
   ]
  },
  {
   "cell_type": "code",
   "execution_count": 5,
   "id": "78183f77-9dbd-490d-b1c1-7316859c30f4",
   "metadata": {},
   "outputs": [
    {
     "data": {
      "application/vnd.jupyter.widget-view+json": {
       "model_id": "2846eb28971d443d9b7be8d07979c9b5",
       "version_major": 2,
       "version_minor": 0
      },
      "text/plain": [
       "Output()"
      ]
     },
     "metadata": {},
     "output_type": "display_data"
    },
    {
     "data": {
      "text/html": [
       "<pre style=\"white-space:pre;overflow-x:auto;line-height:normal;font-family:Menlo,'DejaVu Sans Mono',consolas,'Courier New',monospace\"></pre>\n"
      ],
      "text/plain": []
     },
     "metadata": {},
     "output_type": "display_data"
    }
   ],
   "source": [
    "policy_kwargs = {\n",
    "    \"net_arch\": [128, 64, 32]\n",
    "}\n",
    "model = PPO(\"MlpPolicy\", env, tensorboard_log='runs', device=\"cpu\", policy_kwargs=policy_kwargs)\n",
    "model.learn(total_timesteps=int(5e6), progress_bar=True)\n",
    "model.save(f\"models/sb3_ppo_longshot_n{num_vars}\")"
   ]
  },
  {
   "cell_type": "code",
   "execution_count": 6,
   "id": "3a77a2e1-a69c-4771-b6ed-54a81abbbff3",
   "metadata": {},
   "outputs": [
    {
     "name": "stdout",
     "output_type": "stream",
     "text": [
      "[0 1 1 0 1 0 0 1 1 0 0 1 0 1 1 0 1 0 0 0 0 1 1 0 0 1 0 0 1 0 0 1] 23.749200031998768 {'adding': False, 'removing': False, 'avgQ': 4.75, 'lambda': 18.999200031998768, 'episode': {'r': 23.7492, 'l': 27, 't': 0.008244}}\n",
      "[0 1 1 0 1 0 0 1 1 0 0 1 0 1 1 0 1 0 0 0 0 1 1 0 0 1 0 0 1 0 0 1] 23.749200031998768 {'adding': False, 'removing': False, 'avgQ': 4.75, 'lambda': 18.999200031998768, 'episode': {'r': 23.7492, 'l': 27, 't': 0.008244}}\n",
      "[0 1 1 0 1 0 0 1 1 0 0 1 0 1 1 0 1 0 0 0 0 1 1 0 0 1 0 0 1 0 0 1] 23.749200031998768 {'adding': False, 'removing': False, 'avgQ': 4.75, 'lambda': 18.999200031998768, 'episode': {'r': 23.7492, 'l': 27, 't': 0.012161}}\n",
      "[0 1 1 0 1 0 0 1 1 0 0 1 0 1 1 0 1 0 0 0 0 1 1 0 0 1 0 0 1 0 0 1] 23.749200031998768 {'adding': False, 'removing': False, 'avgQ': 4.75, 'lambda': 18.999200031998768, 'episode': {'r': 23.7492, 'l': 27, 't': 0.012161}}\n",
      "[0 1 1 0 1 0 0 1 1 0 0 1 0 1 1 0 1 0 0 0 0 1 1 0 0 1 0 0 1 0 0 1] 23.749200031998768 {'adding': False, 'removing': False, 'avgQ': 4.75, 'lambda': 18.999200031998768, 'episode': {'r': 23.7492, 'l': 27, 't': 0.01595}}\n",
      "[0 1 1 0 1 0 0 1 1 0 0 1 0 1 1 0 1 0 0 0 0 1 1 0 0 1 0 0 1 0 0 1] 23.749200031998768 {'adding': False, 'removing': False, 'avgQ': 4.75, 'lambda': 18.999200031998768, 'episode': {'r': 23.7492, 'l': 27, 't': 0.01595}}\n",
      "[0 1 1 0 1 0 0 1 1 0 0 1 0 1 1 0 1 0 0 0 0 1 1 0 0 1 0 0 1 0 0 1] 23.749200031998768 {'adding': False, 'removing': False, 'avgQ': 4.75, 'lambda': 18.999200031998768, 'episode': {'r': 23.7492, 'l': 27, 't': 0.019681}}\n",
      "[0 1 1 0 1 0 0 1 1 0 0 1 0 1 1 0 1 0 0 0 0 1 1 0 0 1 0 0 1 0 0 1] 23.749200031998768 {'adding': False, 'removing': False, 'avgQ': 4.75, 'lambda': 18.999200031998768, 'episode': {'r': 23.7492, 'l': 27, 't': 0.019681}}\n",
      "[0 1 1 0 1 0 0 1 1 0 0 1 0 1 1 0 1 0 0 0 0 1 1 0 0 1 0 0 1 0 0 1] 23.749200031998768 {'adding': False, 'removing': False, 'avgQ': 4.75, 'lambda': 18.999200031998768, 'episode': {'r': 23.7492, 'l': 27, 't': 0.023402}}\n",
      "[0 1 1 0 1 0 0 1 1 0 0 1 0 1 1 0 1 0 0 0 0 1 1 0 0 1 0 0 1 0 0 1] 23.749200031998768 {'adding': False, 'removing': False, 'avgQ': 4.75, 'lambda': 18.999200031998768, 'episode': {'r': 23.7492, 'l': 27, 't': 0.023402}}\n",
      "[0 1 1 0 1 0 0 1 1 0 0 1 0 1 1 0 1 0 0 0 0 1 1 0 0 1 0 0 1 0 0 1] 23.749200031998768 {'adding': False, 'removing': False, 'avgQ': 4.75, 'lambda': 18.999200031998768, 'episode': {'r': 23.7492, 'l': 23, 't': 0.026609}}\n",
      "[0 1 1 0 1 0 0 1 1 0 0 1 0 1 1 0 1 0 0 0 0 1 1 0 0 1 0 0 1 0 0 1] 23.749200031998768 {'adding': False, 'removing': False, 'avgQ': 4.75, 'lambda': 18.999200031998768, 'episode': {'r': 23.7492, 'l': 23, 't': 0.026609}}\n",
      "[0 1 1 0 1 0 0 1 1 0 0 1 0 1 1 0 1 0 0 0 0 1 1 0 0 1 0 0 1 0 0 1] 23.749200031998768 {'adding': False, 'removing': False, 'avgQ': 4.75, 'lambda': 18.999200031998768, 'episode': {'r': 23.7492, 'l': 25, 't': 0.03006}}\n",
      "[0 1 1 0 1 0 0 1 1 0 0 1 0 1 1 0 1 0 0 0 0 1 1 0 0 1 0 0 1 0 0 1] 23.749200031998768 {'adding': False, 'removing': False, 'avgQ': 4.75, 'lambda': 18.999200031998768, 'episode': {'r': 23.7492, 'l': 25, 't': 0.03006}}\n",
      "[0 1 1 0 1 0 0 1 1 0 0 1 0 1 1 0 1 0 0 0 0 1 1 0 0 1 0 0 1 0 0 1] 23.749200031998768 {'adding': False, 'removing': False, 'avgQ': 4.75, 'lambda': 18.999200031998768, 'episode': {'r': 23.7492, 'l': 31, 't': 0.034285}}\n",
      "[0 1 1 0 1 0 0 1 1 0 0 1 0 1 1 0 1 0 0 0 0 1 1 0 0 1 0 0 1 0 0 1] 23.749200031998768 {'adding': False, 'removing': False, 'avgQ': 4.75, 'lambda': 18.999200031998768, 'episode': {'r': 23.7492, 'l': 31, 't': 0.034285}}\n",
      "[0 1 1 0 1 0 0 1 1 0 0 1 0 1 1 0 1 0 0 0 0 1 1 0 0 1 0 0 1 0 0 1] 23.749200031998768 {'adding': False, 'removing': False, 'avgQ': 4.75, 'lambda': 18.999200031998768, 'episode': {'r': 23.7492, 'l': 23, 't': 0.03744}}\n",
      "[0 1 1 0 1 0 0 1 1 0 0 1 0 1 1 0 1 0 0 0 0 1 1 0 0 1 0 0 1 0 0 1] 23.749200031998768 {'adding': False, 'removing': False, 'avgQ': 4.75, 'lambda': 18.999200031998768, 'episode': {'r': 23.7492, 'l': 23, 't': 0.03744}}\n",
      "[0 1 1 0 1 0 0 1 1 0 0 1 0 1 1 0 1 0 0 0 0 1 1 0 0 1 0 0 1 0 0 1] 23.749200031998768 {'adding': False, 'removing': False, 'avgQ': 4.75, 'lambda': 18.999200031998768, 'episode': {'r': 23.7492, 'l': 29, 't': 0.041475}}\n",
      "[0 1 1 0 1 0 0 1 1 0 0 1 0 1 1 0 1 0 0 0 0 1 1 0 0 1 0 0 1 0 0 1] 23.749200031998768 {'adding': False, 'removing': False, 'avgQ': 4.75, 'lambda': 18.999200031998768, 'episode': {'r': 23.7492, 'l': 29, 't': 0.041475}}\n"
     ]
    }
   ],
   "source": [
    "env = gym.make(\"longshot/avgQ-d2-formula\", n=num_vars, ftype=FormulaType.Disjunctive, mono=False)\n",
    "env = SearchForXOR(env)\n",
    "env = LambdaMixedReward(env, alpha=r_alpha, beta=r_beta, gamma=r_gamma, eps=r_eps)\n",
    "env = Monitor(env)\n",
    "model = PPO.load(f\"models/sb3_ppo_longshot_n{num_vars}\", device=\"cpu\")\n",
    "\n",
    "for _ in range(10):\n",
    "    obs, info = env.reset()\n",
    "    tr = 0.\n",
    "    while True:\n",
    "        action, _states = model.predict(obs)\n",
    "        obs, reward, terminated, truncated, info = env.step(action)\n",
    "        tr += reward\n",
    "        \n",
    "        if terminated or truncated:\n",
    "            print(obs, tr, info)\n",
    "            break\n",
    "            \n",
    "    print(obs, tr, info)"
   ]
  },
  {
   "cell_type": "code",
   "execution_count": null,
   "id": "c6e8e513-d092-4e11-8fb7-967bc07a5bb5",
   "metadata": {},
   "outputs": [],
   "source": []
  }
 ],
 "metadata": {
  "kernelspec": {
   "display_name": "Python 3 (ipykernel)",
   "language": "python",
   "name": "python3"
  },
  "language_info": {
   "codemirror_mode": {
    "name": "ipython",
    "version": 3
   },
   "file_extension": ".py",
   "mimetype": "text/x-python",
   "name": "python",
   "nbconvert_exporter": "python",
   "pygments_lexer": "ipython3",
   "version": "3.10.12"
  }
 },
 "nbformat": 4,
 "nbformat_minor": 5
}
